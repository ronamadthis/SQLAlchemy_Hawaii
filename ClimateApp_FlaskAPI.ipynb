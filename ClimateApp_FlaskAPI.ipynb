{
 "cells": [
  {
   "cell_type": "code",
   "execution_count": 4,
   "metadata": {},
   "outputs": [],
   "source": [
    "from flask import Flask, jsonify\n",
    "import sqlalchemy\n",
    "from sqlalchemy.ext.automap import automap_base\n",
    "from sqlalchemy.orm import Session\n",
    "from sqlalchemy import create_engine, inspect, func, and_\n",
    "\n",
    "\n",
    "import pandas as pd"
   ]
  },
  {
   "cell_type": "code",
   "execution_count": 5,
   "metadata": {},
   "outputs": [],
   "source": [
    "engine = create_engine(\"sqlite:///hawaii.sqlite\")\n",
    "Base = automap_base()\n",
    "Base.prepare(engine, reflect = True)\n",
    "Base.classes.keys()\n",
    "\n",
    "Measurement = Base.classes.measurement\n",
    "Station = Base.classes.station\n"
   ]
  },
  {
   "cell_type": "code",
   "execution_count": 13,
   "metadata": {},
   "outputs": [
    {
     "ename": "SyntaxError",
     "evalue": "'return' outside function (<ipython-input-13-b84c783d7680>, line 10)",
     "output_type": "error",
     "traceback": [
      "\u001b[1;36m  File \u001b[1;32m\"<ipython-input-13-b84c783d7680>\"\u001b[1;36m, line \u001b[1;32m10\u001b[0m\n\u001b[1;33m    return tobs_dict\u001b[0m\n\u001b[1;37m                    ^\u001b[0m\n\u001b[1;31mSyntaxError\u001b[0m\u001b[1;31m:\u001b[0m 'return' outside function\n"
     ]
    }
   ],
   "source": [
    "# /api/v1.0/precipitation\n",
    "# Query for the dates and temperature observations from the last year.\n",
    "# Convert the query results to a Dictionary using date as the key and tobs as the value.\n",
    "# Return the json representation of your dictionary.\n",
    "\n",
    "session = Session(engine)\n",
    "results = session.query(Measurement.date, Measurement.tobs).filter(and_(Measurement.date >= '2017-01-01',\\\n",
    "          Measurement.date < '2018-12-01')).all()\n",
    "for row in results:\n",
    "    tobs_dict= {\"date\":results[0], \"tobs\":results[1]}\n",
    "return tobs_dict\n",
    "\n",
    "print(tobs_dict)"
   ]
  },
  {
   "cell_type": "code",
   "execution_count": null,
   "metadata": {},
   "outputs": [],
   "source": [
    "# Query for the dates and temperature observations from the last year.\n",
    "# Convert the query results to a Dictionary using date as the key and tobs as the value.\n",
    "# Return the json representation of your dictionary.\n",
    "\n",
    "app Flask(__name__)\n",
    "\n",
    "@app.route(\"/\")\n",
    "def welcome():\n",
    "    \"\"\"List all available api routes.\"\"\"\n",
    "    return (\n",
    "        f\"Available Routes:<br/>\"\n",
    "        f\"/api/v1.0/names<br/>\"\n",
    "        f\"/api/v1.0/passengers\"\n",
    "    )\n",
    "\n",
    "\n",
    "@app.route(\"/api/v1.0/precipitation\")\n",
    "def names():\n",
    "    \n",
    "    # Query for the dates and temperature observations from the last year.\n",
    "    results = session.query(Measurement.date, Measurement.tobs).filter(and_(Measurement.date >= '2017-01-01',\\\n",
    "          Measurement.date < '2018-12-01')).all()\n",
    "\n",
    "    # Convert the query results to a Dictionary using date as the key and tobs as the value\n",
    "    all_tobs = []\n",
    "    for tobs in results:\n",
    "        tobs_dict = {}\n",
    "        tobs_dict[\"date\"] = passenger.date\n",
    "        tobs_dict[\"tobs\"] = passenger.tobs\n",
    "        all_tobs.append(tobs_dict)\n",
    "    return jsonify(tobs_dict)\n",
    "\n",
    "\n",
    "if __name__ == \"__main__\":\n",
    "    app.run(debug=True)"
   ]
  },
  {
   "cell_type": "code",
   "execution_count": null,
   "metadata": {},
   "outputs": [],
   "source": [
    "\n",
    "\n",
    "app = Flask(__name__)\n",
    "\n",
    "\n",
    "#################################################\n",
    "# Flask Routes\n",
    "#################################################\n",
    "\n",
    "@app.route(\"/\")\n",
    "def welcome():\n",
    "    \"\"\"List all available api routes.\"\"\"\n",
    "    return (\n",
    "        f\"Available Routes:<br/>\"\n",
    "        f\"/api/v1.0/precipitation\"\n",
    "    )\n",
    "\n",
    "\n",
    "@app.route(\"/api/v1.0/precipitation\")\n",
    "def precipitation():\n",
    "       # Query all passengers\n",
    "    results = session.query(Measurement.prcp).all()\n",
    "\n",
    "    # Convert list of tuples into normal list using np.ravel\n",
    "    all_prcp = list(np.ravel(results))\n",
    "\n",
    "    return jsonify(all_prcp)  \n",
    "\n",
    "if __name__ == '__main__':\n",
    "    app.run(debug=True)   "
   ]
  },
  {
   "cell_type": "code",
   "execution_count": null,
   "metadata": {},
   "outputs": [],
   "source": []
  },
  {
   "cell_type": "code",
   "execution_count": null,
   "metadata": {},
   "outputs": [],
   "source": [
    "# Return a json list of stations from the dataset.\n",
    "\n",
    "@app.route(\"/api/v1.0/stations\")\n",
    "def stations():\n",
    "    results = session.query(Measurement.stations).all()\n",
    "\n",
    "    # Convert list of tuples into normal list using np.ravel\n",
    "    all_stations = list(np.ravel(results))\n",
    "    \n",
    "    \n",
    "    return jsonify(all_stations)\n",
    "\n",
    "\n",
    "\n",
    "\n"
   ]
  },
  {
   "cell_type": "code",
   "execution_count": null,
   "metadata": {},
   "outputs": [],
   "source": []
  },
  {
   "cell_type": "code",
   "execution_count": null,
   "metadata": {},
   "outputs": [],
   "source": [
    "# Return a json list of Temperature Observations (tobs) for the previous year\n",
    "\n",
    "# Query for the dates and temperature observations from the last year.\n",
    "    results = session.query(Measurement.tobs).filter(and_(Measurement.date >= '2017-01-01',\\\n",
    "          Measurement.date < '2018-12-01')).all()\n",
    "    all_tobs = list(np.ravel(results))\n",
    "    \n",
    "    \n",
    "    return jsonify(all_tobs)\n",
    "\n",
    "\n",
    "\n",
    "@app.route(\"/api/v1.0/tobs\")\n",
    "def tobs():\n",
    "        # Query for the dates and temperature observations from the last year.\n",
    "    results = session.query(Measurement.tobs).filter(and_(Measurement.date >= '2017-01-01',\\\n",
    "          Measurement.date < '2018-12-01')).all()\n",
    "    all_tobs = list(np.ravel(result)\n",
    "    \n",
    "    \n",
    "   "
   ]
  },
  {
   "cell_type": "code",
   "execution_count": null,
   "metadata": {},
   "outputs": [],
   "source": []
  },
  {
   "cell_type": "code",
   "execution_count": null,
   "metadata": {},
   "outputs": [],
   "source": [
    "# Return a json list of the minimum temperature, the average temperature, and the max temperature for a given start or start-end range.\n",
    "# When given the start only, calculate TMIN, TAVG, and TMAX for all dates greater than and equal to the start date.\n",
    "# When given the start and the end date, calculate the TMIN, TAVG, and TMAX for dates between the start and end date inclusive.\n",
    "\n",
    "@app.route(\"/api/v1.0/<start>\")\n",
    "def data():\n",
    "    def calc_temps(startdate, enddate):\n",
    "    results=session.query(func.min(Measurement.tobs),func.avg(Measurement.tobs),func.max(Measurement.tobs)).\\\n",
    "                         filter(Measurement.date >= startdate, Measurement.date < enddate).all()\n",
    "    return results\n",
    "   \n",
    "# calc_temps('2017-01-01', '2017-01-08')\n",
    "calc_temps(startDate, endDate)\n",
    "    \n",
    "    \n",
    "    return jsonify(prevYear_tobs)"
   ]
  }
 ],
 "metadata": {
  "kernelspec": {
   "display_name": "Python 3",
   "language": "python",
   "name": "python3"
  },
  "language_info": {
   "codemirror_mode": {
    "name": "ipython",
    "version": 3
   },
   "file_extension": ".py",
   "mimetype": "text/x-python",
   "name": "python",
   "nbconvert_exporter": "python",
   "pygments_lexer": "ipython3",
   "version": "3.6.3"
  }
 },
 "nbformat": 4,
 "nbformat_minor": 2
}
