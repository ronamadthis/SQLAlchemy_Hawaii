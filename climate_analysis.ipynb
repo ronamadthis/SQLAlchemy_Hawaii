{
 "cells": [
  {
   "cell_type": "code",
   "execution_count": 78,
   "metadata": {},
   "outputs": [],
   "source": [
    "# Import Matplot lib \n",
    "\n",
    "import matplotlib\n",
    "from matplotlib import style\n",
    "style.use('seaborn')\n",
    "import seaborn as sns\n",
    "import matplotlib.pyplot as plt\n",
    "#import plotly.plotly as py\n",
    "# Import SQLAlchemy `automap` and other dependencies here\n",
    "\n",
    "import sqlalchemy\n",
    "from sqlalchemy.ext.automap import automap_base\n",
    "from sqlalchemy.orm import Session\n",
    "from sqlalchemy import create_engine, inspect, func, and_\n",
    "\n",
    "\n",
    "import pandas as pd"
   ]
  },
  {
   "cell_type": "code",
   "execution_count": 79,
   "metadata": {},
   "outputs": [],
   "source": [
    "# Choose a start date and end date for your trip. Make sure that your vacation range is approximately 3-15 days total.\n",
    "\n",
    "startDate = '2017-01-01'\n",
    "endDate = '2017-01-08'"
   ]
  },
  {
   "cell_type": "code",
   "execution_count": 80,
   "metadata": {},
   "outputs": [
    {
     "data": {
      "text/plain": [
       "['measurement', 'station']"
      ]
     },
     "execution_count": 80,
     "metadata": {},
     "output_type": "execute_result"
    }
   ],
   "source": [
    "# Use SQLAlchemy create_engine to connect to your sqlite database\n",
    "# Use SQLAlchemy automap_base() to reflect your tables into classes and save a reference to those classes called Station and Measurement.\n",
    "\n",
    "engine = create_engine(\"sqlite:///hawaii.sqlite\")\n",
    "Base = automap_base()\n",
    "Base.prepare(engine, reflect = True)\n",
    "Base.classes.keys()\n"
   ]
  },
  {
   "cell_type": "code",
   "execution_count": null,
   "metadata": {},
   "outputs": [],
   "source": []
  },
  {
   "cell_type": "code",
   "execution_count": 130,
   "metadata": {},
   "outputs": [
    {
     "data": {
      "text/html": [
       "<div>\n",
       "<style>\n",
       "    .dataframe thead tr:only-child th {\n",
       "        text-align: right;\n",
       "    }\n",
       "\n",
       "    .dataframe thead th {\n",
       "        text-align: left;\n",
       "    }\n",
       "\n",
       "    .dataframe tbody tr th {\n",
       "        vertical-align: top;\n",
       "    }\n",
       "</style>\n",
       "<table border=\"1\" class=\"dataframe\">\n",
       "  <thead>\n",
       "    <tr style=\"text-align: right;\">\n",
       "      <th></th>\n",
       "      <th>prcp</th>\n",
       "    </tr>\n",
       "    <tr>\n",
       "      <th>date</th>\n",
       "      <th></th>\n",
       "    </tr>\n",
       "  </thead>\n",
       "  <tbody>\n",
       "    <tr>\n",
       "      <th>2017-01-01</th>\n",
       "      <td>0.0</td>\n",
       "    </tr>\n",
       "    <tr>\n",
       "      <th>2017-01-02</th>\n",
       "      <td>0.0</td>\n",
       "    </tr>\n",
       "    <tr>\n",
       "      <th>2017-01-03</th>\n",
       "      <td>0.0</td>\n",
       "    </tr>\n",
       "    <tr>\n",
       "      <th>2017-01-04</th>\n",
       "      <td>0.0</td>\n",
       "    </tr>\n",
       "    <tr>\n",
       "      <th>2017-01-05</th>\n",
       "      <td>0.0</td>\n",
       "    </tr>\n",
       "  </tbody>\n",
       "</table>\n",
       "</div>"
      ],
      "text/plain": [
       "            prcp\n",
       "date            \n",
       "2017-01-01   0.0\n",
       "2017-01-02   0.0\n",
       "2017-01-03   0.0\n",
       "2017-01-04   0.0\n",
       "2017-01-05   0.0"
      ]
     },
     "execution_count": 130,
     "metadata": {},
     "output_type": "execute_result"
    }
   ],
   "source": [
    "Measurement = Base.classes.measurement\n",
    "Station = Base.classes.station\n",
    "\n",
    "# query to retrieve the last 12 months of precipitation data.\n",
    "# Select only the date and prcp values.\n",
    "# Load the query results into a Pandas DataFrame and set the index to the date column.\n",
    "session = Session(engine) \n",
    "#results = session.query(Measurement.date, Measurement.prcp).filter(and_(Measurement.date >= '2017-01-01', Measurement.date < '2018-12-01')).all()\n",
    "# date = [result[0] for result in results]\n",
    "# Precip = [result[1] for result in results] \n",
    "stmnt = session.query(Measurement.date, Measurement.prcp).filter(and_(Measurement.date >= '2017-01-01',\\\n",
    "    Measurement.date < '2018-12-01')).statement\n",
    "df=pd.read_sql_query( stmnt, session.bind)\n",
    "df1=df.set_index('date')\n",
    "df1.head()"
   ]
  },
  {
   "cell_type": "code",
   "execution_count": 136,
   "metadata": {},
   "outputs": [
    {
     "data": {
      "image/png": "[encoded data removed]",
      "text/plain": [
       "<matplotlib.figure.Figure at 0x1a4ec78e390>"
      ]
     },
     "metadata": {},
     "output_type": "display_data"
    }
   ],
   "source": [
    "# Create a horizontal bar chart and plot the `date` on the y-axis and the `Precipitation` on the x-axis\n",
    "plt.figure(figsize=(12,8))\n",
    "plt.bar(df1.index.values, df1['prcp'])\n",
    "plt.xlabel(\"Date\")\n",
    "plt.ylabel(\"Precipitation\")\n",
    "plt.title(\"Precipitation Data from 2017-01-01 to 2018-12-01\")\n",
    "plt.legend(loc='upper left')\n",
    "plt.legend (loc=2,\n",
    "           borderaxespad=0.,\n",
    "           bbox_to_anchor=(1.05, 1),\n",
    "           fontsize=10,\n",
    "           title='Precip')\n",
    "plt.locator_params(axis='x', nbins=12)\n",
    "plt.xticks(rotation=60)\n",
    "sns.set()\n",
    "\n",
    "plt.tight_layout()\n",
    "plt.show()"
   ]
  },
  {
   "cell_type": "code",
   "execution_count": 137,
   "metadata": {},
   "outputs": [
    {
     "data": {
      "text/plain": [
       "count    18103.000000\n",
       "mean         0.160644\n",
       "std          0.468746\n",
       "min          0.000000\n",
       "25%          0.000000\n",
       "50%          0.010000\n",
       "75%          0.110000\n",
       "max         11.530000\n",
       "Name: prcp, dtype: float64"
      ]
     },
     "execution_count": 137,
     "metadata": {},
     "output_type": "execute_result"
    }
   ],
   "source": [
    "# Use Pandas to print the summary statistics for the precipitation data\n",
    "conn=engine.connect()\n",
    "data = pd.read_sql(\"SELECT * FROM measurement\", conn)\n",
    "data[\"prcp\"].describe()\n"
   ]
  },
  {
   "cell_type": "code",
   "execution_count": 138,
   "metadata": {},
   "outputs": [
    {
     "name": "stdout",
     "output_type": "stream",
     "text": [
      "9\n"
     ]
    }
   ],
   "source": [
    "# Design a query to calculate the total number of stations.\n",
    "No_of_stations = session.query(Measurement).group_by(Measurement.station).count()\n",
    "print(No_of_stations)"
   ]
  },
  {
   "cell_type": "code",
   "execution_count": 139,
   "metadata": {},
   "outputs": [
    {
     "name": "stdout",
     "output_type": "stream",
     "text": [
      "[('USC00519281', 2772), ('USC00513117', 2696), ('USC00519397', 2685), ('USC00519523', 2572), ('USC00516128', 2484), ('USC00514830', 1937), ('USC00511918', 1932), ('USC00517948', 683), ('USC00518838', 342)]\n",
      "('USC00519281', 2772)\n"
     ]
    }
   ],
   "source": [
    "# Design a query to find the most active stations.\n",
    "# List the stations and observation counts in descending order\n",
    "#  station has the highest number of observations?\n",
    "results = session.query(Measurement.station, func.count(Measurement.date)).\\\n",
    "    group_by(Measurement.station).\\\n",
    "    order_by(func.count(Measurement.date).desc()).all()\n",
    "print(results)\n",
    "print(results[0])"
   ]
  },
  {
   "cell_type": "code",
   "execution_count": 140,
   "metadata": {},
   "outputs": [
    {
     "data": {
      "image/png": "[encoded data removed]",
      "text/plain": [
       "<matplotlib.figure.Figure at 0x1a4eb9c8160>"
      ]
     },
     "metadata": {},
     "output_type": "display_data"
    }
   ],
   "source": [
    "# Design a query to retrieve the last 12 months of temperature observation data (tobs).\n",
    "# Filter by the station with the highest number of observations.\n",
    "# Plot the results as a histogram with bins=12.\n",
    "data = session.query(Measurement.date, Measurement.tobs).filter(and_(Measurement.date >= '2017-01-01', \\\n",
    "        Measurement.date < '2018-01-01')).all()\n",
    "Highest_no_obs = session.query(Measurement.date, Measurement.tobs).filter(Measurement.station == 'USC00519281').all()\n",
    "\n",
    "\n",
    "tobs = [data[1] for data in Highest_no_obs]\n",
    "fig = plt.figure()\n",
    "\n",
    "#  data\n",
    "x = tobs\n",
    "\n",
    "bins = 12\n",
    "# the histogram of the data\n",
    "plt.hist(x, bins, color='blue', alpha=0.5)\n",
    "\n",
    "\n",
    "plt.xlabel('Temperature')\n",
    "plt.ylabel('Frequency')\n",
    "plt.show()"
   ]
  },
  {
   "cell_type": "code",
   "execution_count": 148,
   "metadata": {},
   "outputs": [
    {
     "data": {
      "text/plain": [
       "[(62, 68.1025641025641, 74)]"
      ]
     },
     "execution_count": 148,
     "metadata": {},
     "output_type": "execute_result"
    }
   ],
   "source": [
    "# Write a function called calc_temps that will accept a start date and end date in the format %Y-%m-%d and\n",
    "# return the minimum, average, and maximum temperatures for that range of dates.\n",
    "def calc_temps(startdate, enddate):\n",
    "    results=session.query(func.min(Measurement.tobs),func.avg(Measurement.tobs),func.max(Measurement.tobs)).\\\n",
    "                         filter(Measurement.date >= startdate, Measurement.date < enddate).all()\n",
    "    return results\n",
    "   \n",
    "# calc_temps('2017-01-01', '2017-01-08')\n",
    "calc_temps(startDate, endDate)"
   ]
  },
  {
   "cell_type": "code",
   "execution_count": 144,
   "metadata": {},
   "outputs": [
    {
     "name": "stdout",
     "output_type": "stream",
     "text": [
      "[(62, 70.25, 78)]\n"
     ]
    },
    {
     "data": {
      "text/plain": [
       "[(62, 70.25, 78)]"
      ]
     },
     "execution_count": 144,
     "metadata": {},
     "output_type": "execute_result"
    }
   ],
   "source": [
    "# Plot the min, avg, and max temperature from your previous query as a bar chart.\n",
    "# Use the average temperature as the bar height.\n",
    "# Use the peak-to-peak (tmax-tmin) value as the y error bar (yerr).\n",
    "\n",
    "from datetime import datetime, timedelta\n",
    "sDate = datetime.strptime(startDate,\"%Y-%m-%d\")\n",
    "eDate = datetime.strptime(endDate,\"%Y-%m-%d\")\n",
    "new_startdate = sDate - timedelta(days=365) \n",
    "new_endDate = eDate - timedelta(days=365)\n",
    "calc_temps(new_startdate,new_endDate )\n",
    "\n"
   ]
  },
  {
   "cell_type": "code",
   "execution_count": 145,
   "metadata": {
    "scrolled": true
   },
   "outputs": [
    {
     "data": {
      "image/png": "[encoded data removed]",
      "text/plain": [
       "<matplotlib.figure.Figure at 0x1a4ec7dfeb8>"
      ]
     },
     "metadata": {},
     "output_type": "display_data"
    }
   ],
   "source": [
    "# Plot the min, avg, and max temperature from your previous query as a bar chart.\n",
    "# Use the average temperature as the bar height.\n",
    "# Use the peak-to-peak (tmax-tmin) value as the y error bar (yerr).\n",
    "\n",
    "plt.figure(figsize=(2,5))\n",
    "y=70.25\n",
    "variance = 78-62\n",
    "\n",
    "plt.bar(0, y, width,color='pink', yerr=variance)\n",
    "plt.ylabel(\"Temp(F)\")\n",
    "plt.title(\"Trip Avg Temp\")\n",
    "\n",
    "plt.tight_layout()\n",
    "plt.xticks([])\n",
    "\n",
    "plt.show()\n"
   ]
  },
  {
   "cell_type": "code",
   "execution_count": null,
   "metadata": {},
   "outputs": [],
   "source": []
  },
  {
   "cell_type": "code",
   "execution_count": null,
   "metadata": {},
   "outputs": [],
   "source": []
  }
 ],
 "metadata": {
  "kernelspec": {
   "display_name": "Python 3",
   "language": "python",
   "name": "python3"
  },
  "language_info": {
   "codemirror_mode": {
    "name": "ipython",
    "version": 3
   },
   "file_extension": ".py",
   "mimetype": "text/x-python",
   "name": "python",
   "nbconvert_exporter": "python",
   "pygments_lexer": "ipython3",
   "version": "3.6.3"
  }
 },
 "nbformat": 4,
 "nbformat_minor": 2
}
